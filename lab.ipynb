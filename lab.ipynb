{
 "cells": [
  {
   "cell_type": "code",
   "execution_count": 7,
   "id": "f98d24f0",
   "metadata": {},
   "outputs": [
    {
     "data": {
      "text/plain": [
       "'https://www.dafont.com/forum/change.php?f=2&p=317'"
      ]
     },
     "execution_count": 7,
     "metadata": {},
     "output_type": "execute_result"
    }
   ],
   "source": [
    "f\"https://www.dafont.com/forum/change.php?f=2&p=317\""
   ]
  },
  {
   "cell_type": "code",
   "execution_count": null,
   "id": "62aac586",
   "metadata": {},
   "outputs": [],
   "source": [
    "https://www.dafont.com/forum/?f=1&p=317"
   ]
  },
  {
   "cell_type": "code",
   "execution_count": null,
   "id": "f5483d47",
   "metadata": {},
   "outputs": [
    {
     "name": "stderr",
     "output_type": "stream",
     "text": [
      "2025-06-02 18:49:46,145 - INFO - Checking page 1\n",
      "2025-06-02 18:49:46,241 - INFO - Saved tasks to tasks.json\n"
     ]
    }
   ],
   "source": [
    "import dataclasses\n",
    "import datetime as dt\n",
    "import json\n",
    "import logging\n",
    "import requests\n",
    "import urllib.parse\n",
    "import re\n",
    "import typing\n",
    "\n",
    "import bs4\n",
    "\n",
    "\n",
    "@dataclasses.dataclass\n",
    "class Task:\n",
    "    task_id: str\n",
    "    url: str\n",
    "    title: str\n",
    "    img_url: str\n",
    "    identified_font: str | None\n",
    "\n",
    "\n",
    "@dataclasses.dataclass\n",
    "class TaskThumb:\n",
    "    task_id: StopAsyncIteration\n",
    "    url: str\n",
    "    updated_at: dt.datetime\n",
    "\n",
    "\n",
    "def parse_task_from_task_url(task_url: str, session: requests.Session) -> Task:\n",
    "    response = session.get(task_url)\n",
    "    soup = bs4.BeautifulSoup(response.text, \"html.parser\")\n",
    "    user_img = next(img for img in soup.find_all(\"img\") if img.get(\"src\", \"\").startswith(\"/forum/attach/orig\"))\n",
    "    user_img_url = urllib.parse.urljoin(\"https://www.dafont.com\", user_img[\"src\"])\n",
    "    user_img_alt = user_img.get(\"alt\", \"\")\n",
    "    identified_font = next(\n",
    "        (\n",
    "            div.find('a').text\n",
    "            for div in soup.find_all(\"div\")\n",
    "            if div.text.startswith('Identified font:') and div.find('a')\n",
    "        ),\n",
    "        None\n",
    "    )\n",
    "    return Task(\n",
    "        task_id=urllib.parse.urlsplit(task_url).path.split('/')[3],\n",
    "        url=task_url,\n",
    "        title=user_img_alt,\n",
    "        img_url=user_img_url,\n",
    "        identified_font=identified_font\n",
    "    )\n",
    "\n",
    "def _loop_task_thumbs(page_no: int, session: requests.Session) -> typing.Generator[TaskThumb, None, None]:\n",
    "    url = f\"https://www.dafont.com/forum/?f=1&p={page_no}\"\n",
    "    response = session.get(url)\n",
    "    response.raise_for_status()\n",
    "\n",
    "    update_pattern = r\"\\b(?:Jan|Feb|Mar|Apr|May|Jun|Jul|Aug|Sep|Oct|Nov|Dec) \\d{2} at \\d{2}:\\d{2}\\b\"\n",
    "    soup = bs4.BeautifulSoup(response.text, 'html.parser')\n",
    "    for thumb in soup.find_all('div', class_=\"thumb_cont\"):\n",
    "        path = thumb.find('div', class_='thumb_img').find('a').get('href')\n",
    "        url = urllib.parse.urljoin(\"https://www.dafont.com/forum/\", path)\n",
    "        at_str = re.search(update_pattern, thumb.find('div', class_='nobr dfsmall tdh').text)\n",
    "        year = dt.datetime.now().year\n",
    "        at_dt = dt.datetime.strptime(f\"{year} {at_str.group()}\", \"%Y %b %d at %H:%M\")\n",
    "        yield TaskThumb(\n",
    "            task_id=path.split('/')[1],\n",
    "            url=url,\n",
    "            updated_at=at_dt\n",
    "        )\n",
    "\n",
    "\n",
    "def loop_task_thumbs(session: requests.Session) -> typing.Generator[TaskThumb, None, None]:\n",
    "    page_no = 1\n",
    "    while True:\n",
    "        logging.info(f\"Checking page {page_no}\")\n",
    "        yield from _loop_task_thumbs(page_no, session)\n",
    "        page_no += 1\n",
    "\n",
    "\n",
    "session = requests.Session()\n",
    "# Define a realistic browser headers dictionary\n",
    "session.headers.update({\n",
    "    \"User-Agent\": (\n",
    "        \"Mozilla/5.0 (Windows NT 10.0; Win64; x64) \"\n",
    "        \"AppleWebKit/537.36 (KHTML, like Gecko) \"\n",
    "        \"Chrome/114.0.0.0 Safari/537.36\"\n",
    "    )\n",
    "})\n",
    "\n",
    "def save_tasks(tasks: dict[int, Task], filename: str = 'tasks.json') -> None:\n",
    "    with open(filename, 'w') as f:\n",
    "        json.dump(\n",
    "            [dataclasses.asdict(task) for task_id, task in tasks.items()],\n",
    "            f,\n",
    "            indent=4\n",
    "        )\n",
    "        logging.info(f\"Saved tasks to {filename}\")\n",
    "\n",
    "with open('tasks.json') as f:\n",
    "    tasks = {\n",
    "        task['task_id']: Task(**task)\n",
    "        for task in json.load(f)\n",
    "    }\n",
    "\n",
    "with open('last_checked_at.txt') as f:\n",
    "    last_checked_at = dt.datetime.fromisoformat(f.read().strip())\n",
    "new_last_checked_at = last_checked_at\n",
    "\n",
    "logging.basicConfig(\n",
    "    level=logging.INFO,\n",
    "    format='%(asctime)s - %(levelname)s - %(message)s'\n",
    ")\n",
    "\n",
    "for i, task_thumb in enumerate(loop_task_thumbs(session)):\n",
    "\n",
    "    if task_thumb.updated_at < last_checked_at:\n",
    "        break\n",
    "    new_last_checked_at = max(new_last_checked_at, task_thumb.updated_at)\n",
    "\n",
    "    if task_thumb.task_id in tasks:\n",
    "        continue\n",
    "\n",
    "    task = parse_task_from_task_url(\n",
    "        task_url=task_thumb.url,\n",
    "        session=session\n",
    "    )\n",
    "    tasks[task.task_id] = task\n",
    "\n",
    "    logging.info(f\"Added task {task.task_id} ~ {task.url}\")\n",
    "\n",
    "    if i % 10 == 0:\n",
    "        save_tasks(tasks)\n",
    "\n",
    "save_tasks(tasks)\n",
    "\n",
    "with open('last_checked_at.txt', 'w') as f:\n",
    "    f.write(new_last_checked_at.isoformat())"
   ]
  },
  {
   "cell_type": "code",
   "execution_count": null,
   "id": "6294c762",
   "metadata": {},
   "outputs": [
    {
     "ename": "TypeError",
     "evalue": "'NoneType' object is not callable",
     "output_type": "error",
     "traceback": [
      "\u001b[0;31m---------------------------------------------------------------------------\u001b[0m",
      "\u001b[0;31mTypeError\u001b[0m                                 Traceback (most recent call last)",
      "Cell \u001b[0;32mIn[170], line 7\u001b[0m\n\u001b[1;32m      5\u001b[0m user_img_url \u001b[38;5;241m=\u001b[39m urllib\u001b[38;5;241m.\u001b[39mparse\u001b[38;5;241m.\u001b[39murljoin(\u001b[38;5;124m\"\u001b[39m\u001b[38;5;124mhttps://www.dafont.com\u001b[39m\u001b[38;5;124m\"\u001b[39m, user_img[\u001b[38;5;124m\"\u001b[39m\u001b[38;5;124msrc\u001b[39m\u001b[38;5;124m\"\u001b[39m])\n\u001b[1;32m      6\u001b[0m user_img_alt \u001b[38;5;241m=\u001b[39m user_img\u001b[38;5;241m.\u001b[39mget(\u001b[38;5;124m\"\u001b[39m\u001b[38;5;124malt\u001b[39m\u001b[38;5;124m\"\u001b[39m, \u001b[38;5;124m\"\u001b[39m\u001b[38;5;124m\"\u001b[39m)\n\u001b[0;32m----> 7\u001b[0m user_text \u001b[38;5;241m=\u001b[39m \u001b[38;5;28mstr\u001b[39m(\u001b[43m(\u001b[49m\u001b[43muser_img\u001b[49m\u001b[38;5;241;43m.\u001b[39;49m\u001b[43mparent\u001b[49m\u001b[38;5;241;43m.\u001b[39;49m\u001b[43mparent\u001b[49m\u001b[38;5;241;43m.\u001b[39;49m\u001b[43mparent\u001b[49m\u001b[38;5;241;43m.\u001b[39;49m\u001b[43mparent\u001b[49m\u001b[38;5;241;43m.\u001b[39;49m\u001b[43mcontents\u001b[49m\u001b[43m[\u001b[49m\u001b[38;5;241;43m0\u001b[39;49m\u001b[43m]\u001b[49m\u001b[43m \u001b[49m\u001b[38;5;129;43;01mor\u001b[39;49;00m\u001b[43m \u001b[49m\u001b[38;5;124;43m\"\u001b[39;49m\u001b[38;5;124;43m\"\u001b[39;49m\u001b[43m)\u001b[49m\u001b[38;5;241;43m.\u001b[39;49m\u001b[43mstrip\u001b[49m\u001b[43m(\u001b[49m\u001b[43m)\u001b[49m)\n\u001b[1;32m      8\u001b[0m identified_font \u001b[38;5;241m=\u001b[39m \u001b[38;5;28mnext\u001b[39m(\n\u001b[1;32m      9\u001b[0m     (\n\u001b[1;32m     10\u001b[0m         div\u001b[38;5;241m.\u001b[39mfind(\u001b[38;5;124m'\u001b[39m\u001b[38;5;124ma\u001b[39m\u001b[38;5;124m'\u001b[39m)\u001b[38;5;241m.\u001b[39mtext\n\u001b[0;32m   (...)\u001b[0m\n\u001b[1;32m     14\u001b[0m     \u001b[38;5;28;01mNone\u001b[39;00m\n\u001b[1;32m     15\u001b[0m )\n",
      "\u001b[0;31mTypeError\u001b[0m: 'NoneType' object is not callable"
     ]
    }
   ],
   "source": [
    "task_url = task_thumb.url\n",
    "response = session.get(task_url)\n",
    "soup = bs4.BeautifulSoup(response.text, \"html.parser\")\n",
    "user_img = next(img for img in soup.find_all(\"img\") if img.get(\"src\", \"\").startswith(\"/forum/attach/orig\"))\n",
    "user_img_url = urllib.parse.urljoin(\"https://www.dafont.com\", user_img[\"src\"])\n",
    "user_img_alt = user_img.get(\"alt\", \"\")\n",
    "identified_font = next(\n",
    "    (\n",
    "        div.find('a').text\n",
    "        for div in soup.find_all(\"div\")\n",
    "        if div.text.startswith('Identified font:')\n",
    "    ),\n",
    "    None\n",
    ")"
   ]
  },
  {
   "cell_type": "code",
   "execution_count": 175,
   "id": "8f99e55c",
   "metadata": {},
   "outputs": [
    {
     "data": {
      "text/plain": [
       "''"
      ]
     },
     "execution_count": 175,
     "metadata": {},
     "output_type": "execute_result"
    }
   ],
   "source": [
    "user_img.parent.parent.parent.parent.contents[0].text"
   ]
  },
  {
   "cell_type": "markdown",
   "id": "7c7d593f",
   "metadata": {},
   "source": []
  },
  {
   "cell_type": "code",
   "execution_count": null,
   "id": "acd435e2",
   "metadata": {},
   "outputs": [
    {
     "data": {
      "text/plain": [
       "<div class=\"thumb_img\" style=\"height:120px;line-height:120px\"><a href=\"read/575706/qual-o-nome-dessa-font\" style=\"height:120px\"> <img height=\"120\" src=\"/forum/attach/thumb/1/2/1216445.jpg\" width=\"113\"/> </a></div>"
      ]
     },
     "execution_count": 128,
     "metadata": {},
     "output_type": "execute_result"
    }
   ],
   "source": []
  },
  {
   "cell_type": "code",
   "execution_count": null,
   "id": "8e9296be",
   "metadata": {},
   "outputs": [
    {
     "name": "stdout",
     "output_type": "stream",
     "text": [
      "2025-06-02 17:13:00\n",
      "2025-06-02 17:08:00\n",
      "2025-06-02 16:43:00\n",
      "2025-06-02 16:24:00\n",
      "2025-06-02 15:43:00\n",
      "2025-06-02 15:41:00\n",
      "2025-06-02 15:13:00\n",
      "2025-06-02 15:05:00\n",
      "2025-06-02 14:25:00\n",
      "2025-06-02 14:19:00\n",
      "2025-06-02 14:19:00\n",
      "2025-06-02 13:44:00\n",
      "2025-06-02 13:36:00\n",
      "2025-06-02 13:25:00\n",
      "2025-06-02 11:34:00\n",
      "2025-06-02 11:33:00\n",
      "2025-06-02 11:31:00\n",
      "2025-06-02 10:31:00\n",
      "2025-06-02 10:31:00\n",
      "2025-06-02 10:30:00\n",
      "2025-06-02 09:43:00\n",
      "2025-06-02 08:32:00\n",
      "2025-06-02 08:24:00\n",
      "2025-06-02 08:03:00\n",
      "2025-06-02 06:23:00\n",
      "2025-06-02 06:23:00\n",
      "2025-06-02 05:46:00\n",
      "2025-06-02 05:46:00\n",
      "2025-06-02 05:43:00\n",
      "2025-06-02 05:23:00\n",
      "2025-06-02 03:51:00\n",
      "2025-06-02 03:11:00\n",
      "2025-06-02 01:41:00\n",
      "2025-06-02 00:55:00\n",
      "2025-06-02 00:21:00\n",
      "2025-06-02 00:07:00\n",
      "2025-06-01 22:08:00\n",
      "2025-06-01 21:17:00\n",
      "2025-06-01 21:15:00\n",
      "2025-06-01 20:10:00\n",
      "2025-06-01 20:04:00\n",
      "2025-06-01 20:00:00\n",
      "2025-06-01 19:57:00\n",
      "2025-06-01 19:43:00\n",
      "2025-06-01 18:27:00\n",
      "2025-06-01 16:38:00\n",
      "2025-06-01 16:16:00\n",
      "2025-06-01 15:50:00\n",
      "2025-06-01 14:47:00\n",
      "2025-06-01 13:36:00\n"
     ]
    }
   ],
   "source": [
    "import re\n",
    "import datetime as dt\n",
    "\n",
    "update_pattern = r\"\\b(?:Jan|Feb|Mar|Apr|May|Jun|Jul|Aug|Sep|Oct|Nov|Dec) \\d{2} at \\d{2}:\\d{2}\\b\"\n",
    "soup = bs4.BeautifulSoup(response.text, 'html.parser')\n",
    "for thumb in soup.find_all('div', class_=\"thumb_cont\"):\n",
    "    url = thumb.find('div', class_='thumb_img').find('a').get('href')\n",
    "    at_str = re.search(update_pattern, thumb.find('div', class_='nobr dfsmall tdh').text)\n",
    "    year = dt.datetime.now().year\n",
    "    at_dt = dt.datetime.strptime(f\"{year} {at_str.group()}\", \"%Y %b %d at %H:%M\")\n",
    "    yield url, at_dt"
   ]
  },
  {
   "cell_type": "code",
   "execution_count": null,
   "id": "bdbb6559",
   "metadata": {},
   "outputs": [],
   "source": [
    "th"
   ]
  },
  {
   "cell_type": "code",
   "execution_count": 95,
   "id": "8d9356e4",
   "metadata": {},
   "outputs": [
    {
     "name": "stdout",
     "output_type": "stream",
     "text": [
      "I need the exact font on this file please....\n",
      "I need to recreate the exact text using the same font, please anyne who knows the font... thanks\n",
      "https://www.dafont.com/forum/attach/orig/3/6/3615.jpg\n"
     ]
    }
   ],
   "source": [
    "import requests\n",
    "import urllib.parse\n",
    "import bs4\n",
    "\n",
    "url = \"https://www.dafont.com/forum/read/953/i-need-the-exact-font-on-this-file-please\"\n",
    "\n",
    "# Define a realistic browser headers dictionary\n",
    "headers = {\n",
    "    \"User-Agent\": (\n",
    "        \"Mozilla/5.0 (Windows NT 10.0; Win64; x64) \"\n",
    "        \"AppleWebKit/537.36 (KHTML, like Gecko) \"\n",
    "        \"Chrome/114.0.0.0 Safari/537.36\"\n",
    "    )\n",
    "}\n",
    "\n",
    "# Make request with headers\n",
    "response = requests.get(url, headers=headers)\n",
    "soup = bs4.BeautifulSoup(response.text, \"html.parser\")\n",
    "user_img = next(img for img in soup.find_all(\"img\") if img.get(\"src\", \"\").startswith(\"/forum/attach/orig\"))\n",
    "user_img_url = urllib.parse.urljoin(\"https://www.dafont.com\", user_img[\"src\"])\n",
    "user_img_alt = user_img.get(\"alt\", \"\")\n",
    "user_text = str(user_img.parent.parent.parent.parent.contents[0].strip())\n",
    "\n",
    "print(user_img_alt)\n",
    "print(user_text)\n",
    "print(user_img_url)"
   ]
  },
  {
   "cell_type": "code",
   "execution_count": 104,
   "id": "ead5aaa2",
   "metadata": {},
   "outputs": [
    {
     "data": {
      "text/plain": [
       "'Kredit'"
      ]
     },
     "execution_count": 104,
     "metadata": {},
     "output_type": "execute_result"
    }
   ],
   "source": [
    "next(\n",
    "    div.find('a').text\n",
    "    for div in soup.find_all(\"div\")\n",
    "    if div.text.startswith('Identified font:')\n",
    ")"
   ]
  },
  {
   "cell_type": "code",
   "execution_count": 96,
   "id": "7d5f7fde",
   "metadata": {},
   "outputs": [
    {
     "data": {
      "text/plain": [
       "<!DOCTYPE html PUBLIC \"-//W3C//DTD HTML 4.0 Transitional//EN\" \"http://www.w3.org/TR/html4/loose.dtd\">\n",
       "<html><head><title>I need the exact font on this file please.... - forum | dafont.com</title><meta content=\"Archive of freely downloadable fonts. Browse by alphabetical listing, by style, by author or by popularity.\" name=\"description\"/><meta content=\"font, download, ttf, freeware, typefaces, typography, typeface, fonts, free, true type, dingbats\" name=\"keywords\"/><meta content=\"https://www.dafont.com/forum/attach/thumb/3/6/3615.jpg\" name=\"thumbnail\"/><meta content=\"max-image-preview:large\" name=\"robots\"/><script src=\"https://cache.consentframework.com/js/pa/24639/c/yGbKH/stub\" type=\"text/javascript\"></script>\n",
       "<script async=\"\" src=\"https://choices.consentframework.com/js/pa/24639/c/yGbKH/cmp\" type=\"text/javascript\"></script>\n",
       "<script src=\"/js/df5.js\" type=\"text/javascript\"></script><script type=\"text/javascript\">if(ht>\"618\"){var skypos=\"fixed\";window.onscroll=scrollpos;}else var skypos=\"absolute\";</script><meta content=\"text/html; charset=utf-8\" http-equiv=\"Content-Type\"/><meta content=\"block-all-mixed-content\" http-equiv=\"Content-Security-Policy\"/><script src=\"/forum.js\" type=\"text/javascript\"></script><script src=\"/js/key.js\" type=\"text/javascript\"></script><link href=\"/css/base11.css\" rel=\"stylesheet\" type=\"text/css\"/><link href=\"/css/forum4.css\" rel=\"stylesheet\" type=\"text/css\"/><style type=\"text/css\">body{background:#fff;margin:0px 14px!important;padding:0px!important}textarea, input[type=\"text\"], input[type=\"password\"] {border-radius:2px;border:1px solid #a4a4a4;padding:2px 2px}\n",
       "\t.form_elt { margin:2px 3px 2px 0px;height:22px;border-radius:2px;padding:2px 2px;border:1px solid #a4a4a4; }\n",
       "\t.form_elt_bg { display:inline-block;margin-top:2px;margin-right:4px;padding:0px 4px 2px 0px;border-radius:2px;background:#ebebeb;height:20px;line-height:23px;vertical-align:middle }\t\n",
       "\t.form_button { margin:2px 3px 2px 0px;height:22px }\n",
       "\t.perso select{\n",
       "\t-webkit-appearance: none; \n",
       "\t-moz-appearance: none; \n",
       "\tbackground:url(\"/img/dropdown.gif\") no-repeat right 4px top 50%;\n",
       "\tborder:1px solid #a4a4a4;border-radius:2px;padding:1px;margin:2px 3px 2px 0px;height:22px;\n",
       "\ttext-indent: 0.01px; \n",
       "\tpadding:1px 4px;padding-right:17px;}\t.perso select:hover{ background:url(\"/img/dropdown_hover2.png\") no-repeat right 0px top 0px; }.dlbox{height:88px}.body_alt{font-size:16px;word-wrap:break-word;overflow:hidden}\n",
       ".thumb_user{float:right;position:relative;bottom:32px;height:25px;padding:3px;margin:5px 9px 0px;background:#fff}\n",
       "div.thumb{text-align:center;border:2px solid #ccc;margin:10px 20px 10px 0px;float:left;height:142px;line-height:128px}\n",
       "div.thumb a{display:block;height:142x;padding:5px 6px 9px 6px}\n",
       "div.thumb img{vertical-align:middle}\t\t\t\n",
       ".tooltip {position: relative;}\n",
       ".tooltip span.label {margin-left: -9999px;position: absolute;}\n",
       ".label {padding: 5px 5px 5px 5px;background: rgb(204,255,187);background: rgba(204,255,187,1);line-height:18px; text-align:left;color:black;}\n",
       "//.label {padding: 5px 5px 5px 5px;background: rgb(245,245,245);background: rgba(245,245,245,0.92);line-height:18px; text-align:left;color:black;}\n",
       ".lh{line-height:16px;}\n",
       ".google-auto-placed{visibility: hidden; display: none;}.adsbygoogle.adsbygoogle-noablate{visibility: hidden; display: none;}.sd-cmp-1HEM-{visibility: hidden; display: none;}.sd-cmp-2jmDj{color:#999999!important;letter-spacing:unset!important} .sd-cmp-1bquj .sd-cmp-2jmDj {padding:0 0 5px 0 !important} .sd-cmp-1bquj{text-align:left}</style><!--[if gte IE 9]><style type=\"text/css\">.select{padding-top:2px}.lv1left,.lv1right{height:15px;padding-top:4px}</style><![endif]--><meta content=\"always\" name=\"referrer\"/><base href=\"/forum/\"/><script type=\"text/javascript\">\n",
       "function altImg(elt) \n",
       "{\n",
       "\tvar elt = document.getElementsByClassName(elt);\n",
       "\tfor(var i = 0; i < elt.length; i++) \n",
       "\t{\n",
       "\t\telt[i].style.display = \"inline\";\n",
       "\t}\n",
       "}</script>\n",
       "<link href=\"/img/favicon.ico\" rel=\"shortcut icon\" type=\"image/x-icon\"/><script type=\"text/javascript\">\n",
       "function sdLoadAdSense() {\n",
       "    var tagAds = document.createElement('script');\n",
       "    tagAds.async = true;\n",
       "    tagAds.src = 'https://pagead2.googlesyndication.com/pagead/js/adsbygoogle.js';\n",
       "    document.getElementsByTagName('head')[0].appendChild(tagAds);\n",
       "}\n",
       "var _0x5336=['useractioncomplete','listenerId','function','vendor','SDDAN','gdprApplies','consents','tcString','removeEventListener','purpose','addEventListener','publisherCC','cmpuishown','object','tcloaded','eventStatus','__tcfapi','legitimateInterests'];(function(_0x24fd1b,_0x533614){var _0x1de3af=function(_0x17d403){while(--_0x17d403){_0x24fd1b['push'](_0x24fd1b['shift']());}};_0x1de3af(++_0x533614);}(_0x5336,0xff));var _0x1de3=function(_0x24fd1b,_0x533614){_0x24fd1b = _0x24fd1b - 0x0;var _0x1de3af=_0x5336[_0x24fd1b];return _0x1de3af;};(function(){var _0x17d403=0x0,_0x31f128=setInterval(function(){_0x17d403++>=0xc8&&(clearInterval(_0x31f128),sdLoadAdSense()),typeof window[_0x1de3('0xd')]===_0x1de3('0x11')&&(clearInterval(_0x31f128),window[_0x1de3('0xd')](_0x1de3('0x7'),0x2,function(_0x2fbbc8,_0x20e8fc){if(!_0x20e8fc||!_0x2fbbc8[_0x1de3('0xc')]&&_0x2fbbc8['gdprApplies'])return;(!_0x2fbbc8[_0x1de3('0x2')]||(_0x2fbbc8[_0x1de3('0xc')]===_0x1de3('0xb')||_0x2fbbc8['eventStatus']===_0x1de3('0xf')||_0x2fbbc8[_0x1de3('0xc')]===_0x1de3('0x9'))&&(_0x2fbbc8[_0x1de3('0x4')]&&_0x2fbbc8[_0x1de3('0x0')][_0x1de3('0x3')][0x2f3]&&(_0x2fbbc8[_0x1de3('0x6')]['consents'][0x1]||(_0x2fbbc8['purpose']['consents'][0x2]||_0x2fbbc8[_0x1de3('0x6')][_0x1de3('0xe')][0x2])&&_0x2fbbc8[_0x1de3('0x8')]==='DE'&&_0x2fbbc8['purposeOneTreatment'])))&&(typeof window[_0x1de3('0x1')]===_0x1de3('0xa')&&sdLoadAdSense(),__tcfapi(_0x1de3('0x5'),0x2,function(){},_0x2fbbc8[_0x1de3('0x10')]));}));},0xa);}());\n",
       "</script>\n",
       "<!-- Google tag (gtag.js) -->\n",
       "<script async=\"\" src=\"https://www.googletagmanager.com/gtag/js?id=G-W3Z15Z4TYR\"></script>\n",
       "<script>\n",
       "  window.dataLayer = window.dataLayer || [];\n",
       "  function gtag(){dataLayer.push(arguments);}\n",
       "  gtag('js', new Date());\n",
       "\n",
       "  gtag('config', 'G-W3Z15Z4TYR');\n",
       "</script>\n",
       "</head><body onresize=\"themesoff()\"><div class=\"width\" id=\"width\"><div class=\"minwidth\"><div class=\"layout\"><div class=\"container\"><div style=\"height:203px;width:120px;float:left;margin-right:20px\"><div style=\"height:163\"><a href=\"/\" id=\"top\" target=\"_top\"><img height=\"163\" src=\"/img/dafont.png\" width=\"120\"/></a></div></div><div style=\"margin-left:140px\"><div class=\"dfsmall\" style=\"height:13px;padding:6px 0px 7px\"><div class=\"dfsmall right\"><a href=\"/xmas.php\" style=\"cursor:default;\"><img border=\"0\" height=\"1\" src=\"/img/nof.png\" width=\"1\"/></a>  <b> <img height=\"11\" src=\"/img/flags/en.gif\" style=\"vertical-align:-1px\" width=\"16\"/>  English </b> <a class=\"tdn flag\" href=\"/fr/forum/read/953/i-need-the-exact-font-on-this-file-please\"> <img height=\"11\" src=\"/img/flags/fr.gif\" style=\"vertical-align:-1px\" width=\"16\"/>  Français </a> <a class=\"tdn flag\" href=\"/es/forum/read/953/i-need-the-exact-font-on-this-file-please\"> <img height=\"11\" src=\"/img/flags/es.gif\" style=\"vertical-align:-1px\" width=\"16\"/>  Español </a> <a class=\"tdn flag\" href=\"/de/forum/read/953/i-need-the-exact-font-on-this-file-please\"> <img height=\"11\" src=\"/img/flags/de.gif\" style=\"vertical-align:-1px\" width=\"16\"/>  Deutsch </a> <a class=\"tdn flag\" href=\"/it/forum/read/953/i-need-the-exact-font-on-this-file-please\"> <img height=\"11\" src=\"/img/flags/it.gif\" style=\"vertical-align:-1px\" width=\"16\"/>  Italiano </a> <a class=\"tdn flag\" href=\"/pt/forum/read/953/i-need-the-exact-font-on-this-file-please\"> <img height=\"11\" src=\"/img/flags/pt.gif\" style=\"vertical-align:-1px\" width=\"16\"/>  Português </a></div><div class=\"dfsmall login\"><a href=\"https://www.dafont.com/login.php\" rel=\"nofollow\">Login</a>  |  <a href=\"https://www.dafont.com/register.php\" rel=\"nofollow\">Register</a></div></div><div style=\"font-size:1px;background-image:url(/img/points.gif);background-repeat:repeat-x\"><img height=\"3\" src=\"/img/nof.png\" width=\"1\"/></div><div style=\"width:728px !important; height:90px !important; margin-top:14px; margin-bottom:11px; overflow:hidden !important\"><div><ins class=\"adsbygoogle\" data-ad-client=\"ca-pub-1785239035579373\" data-ad-height=\"90\" data-ad-slot=\"4551943208\" data-ad-type=\"image\" data-ad-width=\"728\" style=\"display:inline-block\"></ins>\n",
       "<script>\n",
       "     (adsbygoogle = window.adsbygoogle || []).push({});\n",
       "</script>\n",
       "<div class=\"dfsmall\" id=\"va1\" style=\"display:none; position:absolute; top:119px; left:895px\"> </div></div></div><div class=\"menu\" style=\"padding-right:25px\"><a href=\"../themes.php\">Themes</a> <br/> <a href=\"../new.php\">New fonts</a></div><div class=\"menu\" style=\"padding-right:25px\"><a href=\"../authors.php\">Authors</a> <br/> <a href=\"../top.php\">Top</a></div><div class=\"menu\" style=\"padding-right:25px\"><a href=\"../forum/\">Forum</a><br/><a href=\"../faq.php\">FAQ</a></div><div class=\"menu\" style=\"padding-right:25px\"><a href=\"../submit.php\" rel=\"nofollow\">Submit a font</a><br/><a href=\"../soft.php\">Tools</a></div><div style=\"text-align:right\"><div><form action=\"../search.php\" method=\"get\"><input class=\"search_form\" name=\"q\" style=\"width:200px;margin-right:2px\" tabindex=\"1\" type=\"text\" value=\"\"/> <input type=\"submit\" value=\"Search\"/></form></div><div class=\"tdn upper\" style=\"text-transform:uppercase;line-height:18px;margin-top:7px;white-space:nowrap\"><script type=\"text/javascript\">base=\"..\";p=\"\";lettre=\"\"</script><script src=\"/js/alpha.js\" type=\"text/javascript\"></script></div></div></div><div style=\"clear:left\"></div><div style=\"width:120px;height:600px;float:left;margin-right:20px\"><br/> <iframe border=\"0\" frameborder=\"0\" height=\"1\" name=\"ifdf\" scrolling=\"no\" src=\"about:blank\" width=\"20\"></iframe><a href=\"/news.php\" style=\"cursor:default\"><img border=\"0\" height=\"1\" src=\"/img/nof.png\" width=\"1\"/></a></div><script type=\"text/javascript\">document.write('<div id=\"ad2\" style=\"position:'+skypos+';left:14px;top:205px;z-index:2;width:120px;height:600px;overflow:hidden;\"></div>')</script><div><script type=\"text/javascript\">document.write('<div id=\"sky\" style=\"position:'+skypos+';left:14px;top:183px;z-index:2;width:120px;height:630px;overflow:hidden;\">')</script><div style=\"width:120px;height:600px;overflow:hidden\"><ins class=\"adsbygoogle\" data-ad-client=\"ca-pub-1785239035579373\" data-ad-height=\"600\" data-ad-slot=\"Forum-Sky\" data-ad-type=\"image\" data-ad-width=\"120\" style=\"display:inline-block\"></ins>\n",
       "<script>\n",
       "     (adsbygoogle = window.adsbygoogle || []).push({});\n",
       "</script>\n",
       "</div></div><script type=\"text/javascript\">document.write('</div>')</script><div style=\"margin-left:140px;display:block\"><h3 class=\"headerpage\">Forum</h3><script type=\"text/javascript\">left =\"../forum/read/968/cest-quoi-ce-font-what-is-this-font\";right =\"../forum/read/962/font-identification\";esc =\"//www.dafont.com/forum/goto.php?p=forum&f=1&t=953&d=2010-09-07+18%3A11%3A16\";document.onkeyup = checkKey;</script><div class=\"new_old tdh\"><a href=\"../forum/read/968/cest-quoi-ce-font-what-is-this-font\" title=\"Keyboard shortcut: Left arrow\"><img align=\"top\" height=\"15\" src=\"/img/skip_previous.gif\" width=\"32\"/>Newer Topic</a>     <a href=\"../forum/read/962/font-identification\" title=\"Keyboard shortcut: Right arrow\">Older Topic<img align=\"top\" height=\"15\" src=\"/img/skip_next.gif\" width=\"32\"/></a></div><div class=\"nav\"><a href=\"../forum/\">Forum</a> <span class=\"rr\">→</span> <a href=\"../forum/?f=1\">Font identification</a> <span class=\"rr\">→</span> <a href=\"goto.php?p=forum&amp;f=1&amp;t=953&amp;d=2010-09-07+18%3A11%3A16\" rel=\"nofollow\" title=\"Keyboard shortcut: ESC or Zero\">Back to the list</a></div> <div style=\"font-size:1px;background-image:url(/img/points.gif);background-repeat:repeat-x\"><img height=\"1\" src=\"/img/nof.png\" width=\"1\"/></div><div style=\"float:right\"><br/>3 posts</div><h2>I need the exact font on this file please....</h2><a name=\"3615\"></a><div class=\"hmessage\"><div class=\"info\"><a class=\"nr\" href=\"/forum/read/953/i-need-the-exact-font-on-this-file-please?highlight=3615#3615\" title=\"Link to this post\">#1</a></div><div class=\"avatar\"><a href=\"../profile.php?user=352132\"><img src=\"/img/df_avatar.png\"/></a></div><div class=\"user\"><a class=\"username tdh\" href=\"../profile.php?user=352132\">Ricardo Palma</a> </div><div class=\"quote tdh\"> <a class=\"tdn\" href=\"../login.php?ref=%2Fforum%2Fread%2F953%2Fi-need-the-exact-font-on-this-file-please%3Fquote%3D3615%23post\"><img height=\"12\" src=\"/img/quote.gif\" style=\"vertical-align:-2\" width=\"14\"/>Quote</a></div><div class=\"date\">Sep 06, 2010 at 22:13 </div></div><br/><div class=\"body\">  I need to recreate the exact text using the same font, please anyne who knows the font... thanks<div><br/><div id=\"img_container\" style=\"display:inline-block;max-width:100%; width:225px; height:72px\"><a class=\"tooltip_google\" href=\"/forum/attach/orig/3/6/3615.jpg\" target=\"_blank\"><img alt=\"I need the exact font on this file please....\" onload=\"document.getElementById('img_container').style.height='auto'\" src=\"/forum/attach/orig/3/6/3615.jpg\" style=\"max-width:100%; height:auto;\"/></a></div></div><div style=\"height:15px\"></div><br/><div style=\"font-size:16px\"><span style=\"padding:3px 5px;background:#3d6;color:#000\">Identified font</span></div><br/><a href=\"https://www.dafont.com/kredit.font?text=TOLLAND\" rel=\"nofollow\" target=\"_blank\">Kredit</a>  <span class=\"dfsmall\">Suggested by <a class=\"tdh\" href=\"../profile.php?user=352149\" target=\"_blank\">imaginaryfriend</a>  <a href=\"goto.php?p=read&amp;m=3619&amp;highlight=1\" rel=\"nofollow\" title=\"View post\"><img class=\"out\" height=\"9\" src=\"/img/goto.gif\" width=\"14\"/></a></span><br/></div><br><br><a name=\"3619\"></a><div class=\"hmessage\"><div class=\"info\"><a class=\"nr\" href=\"/forum/read/953/i-need-the-exact-font-on-this-file-please?highlight=3619#3619\" title=\"Link to this post\">#2</a></div><div class=\"avatar\"><a href=\"../profile.php?user=352149\"><img src=\"/img/df_avatar.png\"/></a></div><div class=\"user\"><a class=\"username tdh\" href=\"../profile.php?user=352149\">imaginaryfriend</a> </div><div class=\"quote tdh\"> <a class=\"tdn\" href=\"../login.php?ref=%2Fforum%2Fread%2F953%2Fi-need-the-exact-font-on-this-file-please%3Fquote%3D3619%23post\"><img height=\"12\" src=\"/img/quote.gif\" style=\"vertical-align:-2\" width=\"14\"/>Quote</a></div><div class=\"date\">Sep 07, 2010 at 00:49 </div></div><br/><div class=\"body\">  The font you are looking for is called \"Kredit\"<div style=\"padding-top:14px\"></div><div style=\"margin-bottom:7px\"><div style=\"display:inline-block;font-size:15px;border:2px solid #3d6;padding:5px\">Identified font: <a href=\"https://www.dafont.com/kredit.font?text=TOLLAND\" rel=\"nofollow\" target=\"_blank\">Kredit</a></div></div><div class=\"dfsmall light\" style=\"height:30px\"><br/>Edited on Sep 07, 2010 at 09:56 by Rodolphe</div></div><br><br><a name=\"3656\"></a><div class=\"hmessage\"><div class=\"info\"><a class=\"nr\" href=\"/forum/read/953/i-need-the-exact-font-on-this-file-please?highlight=3656#3656\" title=\"Link to this post\">#3</a></div><div class=\"avatar\"><a href=\"../profile.php?user=352132\"><img src=\"/img/df_avatar.png\"/></a></div><div class=\"user\"><a class=\"username tdh\" href=\"../profile.php?user=352132\">Ricardo Palma</a> </div><div class=\"quote tdh\"> <a class=\"tdn\" href=\"../login.php?ref=%2Fforum%2Fread%2F953%2Fi-need-the-exact-font-on-this-file-please%3Fquote%3D3656%23post\"><img height=\"12\" src=\"/img/quote.gif\" style=\"vertical-align:-2\" width=\"14\"/>Quote</a></div><div class=\"date\">Sep 07, 2010 at 18:11 </div></div><br/><div class=\"body\">  Thanks buddy, you da man...</div><br><br><div style=\"font-size:1px;background-image:url(/img/points.gif);background-repeat:repeat-x\"><img height=\"1\" src=\"/img/nof.png\" width=\"1\"/></div><br/><div class=\"dfsmall\" style=\"float:right;padding-top:2px\">All times are CEST. The time is now 14:59</div><div class=\"nav\"><a class=\"post_button\" href=\"../login.php?ref=%2Fforum%2Fread%2F953%2Fi-need-the-exact-font-on-this-file-please%23post\">Reply</a></div><br/><div style=\"font-size:1px;background-image:url(/img/points.gif);background-repeat:repeat-x\"><img height=\"1\" src=\"/img/nof.png\" width=\"1\"/></div><br/><div class=\"new_old tdh\"><a href=\"../forum/read/968/cest-quoi-ce-font-what-is-this-font\" title=\"Keyboard shortcut: Left arrow\"><img align=\"top\" height=\"15\" src=\"/img/skip_previous.gif\" width=\"32\"/>Newer Topic</a>     <a href=\"../forum/read/962/font-identification\" title=\"Keyboard shortcut: Right arrow\">Older Topic<img align=\"top\" height=\"15\" src=\"/img/skip_next.gif\" width=\"32\"/></a></div><div class=\"nav\"><a href=\"../forum/\">Forum</a> <span class=\"rr\">→</span> <a href=\"../forum/?f=1\">Font identification</a> <span class=\"rr\">→</span> <a href=\"goto.php?p=forum&amp;f=1&amp;t=953&amp;d=2010-09-07+18%3A11%3A16\" rel=\"nofollow\" title=\"Keyboard shortcut: ESC or Zero\">Back to the list</a></div> <div class=\"google-anno-skip\" id=\"google-anno-sa\"></div></br></br></br></br></br></br></div></div></div></div></div><div style=\"margin-left:140px;clear:left\"><div class=\"points\" style=\"padding-bottom:12px\"></div><div class=\"dfsmall tdh right\" style=\"padding-right:1px\"><a href=\"../privacy.php\">Privacy Policy</a>  -  <a href=\"../contact.php\">Contact</a></div> </div> <div style=\"height:54px;float:left;width:140px\"></div><div class=\"tdn\" onclick='document.location.href=\"/forum/read/953/i-need-the-exact-font-on-this-file-please#top\"' style=\"margin-left:140px;display:block;cursor:pointer;height:54px;background:#e6e6e6\"><div class=\"right\"><img src=\"/img/top.gif\"/></div><div style=\"float:left\"><img src=\"/img/top.gif\"/></div></div><script src=\"https://www.anrdoezrs.net/am/100890575/include/allCj/impressions/page/am.js\"></script></body></html>"
      ]
     },
     "execution_count": 96,
     "metadata": {},
     "output_type": "execute_result"
    }
   ],
   "source": [
    "soup"
   ]
  }
 ],
 "metadata": {
  "kernelspec": {
   "display_name": "3.12.7",
   "language": "python",
   "name": "python3"
  },
  "language_info": {
   "codemirror_mode": {
    "name": "ipython",
    "version": 3
   },
   "file_extension": ".py",
   "mimetype": "text/x-python",
   "name": "python",
   "nbconvert_exporter": "python",
   "pygments_lexer": "ipython3",
   "version": "3.12.7"
  }
 },
 "nbformat": 4,
 "nbformat_minor": 5
}
